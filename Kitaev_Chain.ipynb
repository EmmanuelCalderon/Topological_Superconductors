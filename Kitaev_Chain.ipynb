{
  "cells": [
    {
      "cell_type": "markdown",
      "id": "d68459a6",
      "metadata": {},
      "source": [
        "# Algo\n"
      ]
    },
    {
      "cell_type": "code",
      "execution_count": null,
      "id": "9b366e4b",
      "metadata": {},
      "outputs": [],
      "source": [
        "! pip install pythtb"
      ]
    },
    {
      "cell_type": "code",
      "execution_count": null,
      "id": "6c81eca6",
      "metadata": {},
      "outputs": [],
      "source": [
        "from pythtb import *\n",
        "from pylab import *\n",
        "\n",
        "# Cadena de Kitaev\n",
        "\n",
        "lat=[[1.0,0.0],[0.0,1.0]]\n",
        "orb=[[0.0,-1.0],[0.,1.0]]\n",
        "\n",
        "t = 1\n",
        "Δ = 0.5\n",
        "Nμ=500\n",
        "KitaevChain=[]\n",
        "M=np.linspace(-3*t, 3*t, num=Nμ)\n",
        "for μ in M:\n",
        "  KC=tb_model(1,2,lat,orb,per=[0])\n",
        "  KC.set_hop(-t,0,0,[1,0]) # [1] : significa e^{i([1].a1)(k)}\n",
        "  KC.set_hop(t,1,1,[1,0])\n",
        "  KC.set_hop(-Δ,0,1,[1,0])\n",
        "  KC.set_hop( Δ,0,1,[-1,0])\n",
        "  KC.set_onsite([-μ,μ])\n",
        "  KitaevChain.append(KC)\n",
        "\n",
        "KitaevChain[1].visualize(0,1)"
      ]
    },
    {
      "cell_type": "markdown",
      "id": "20a65c8a",
      "metadata": {},
      "source": [
        "# Texto\n"
      ]
    },
    {
      "cell_type": "code",
      "execution_count": null,
      "id": "d434c171",
      "metadata": {},
      "outputs": [],
      "source": [
        "Xm = [-0.5]\n",
        "Xp = [ 0.5]\n",
        "puntosK = [Xm,[0],Xp]\n",
        "Ek=[]\n",
        "for i in range(Nμ):\n",
        "  kpts, kdist, knode = KitaevChain[i].k_path(puntosK,101,report=True)\n",
        "  Ek.append(KitaevChain[i].solve_all(kpts,eig_vectors=False))\n",
        "for i in range(0,Nμ,20):\n",
        "  fig,ax=plt.subplots(figsize=(5, 4))\n",
        "  ax.plot(kdist,Ek[i].T)\n",
        "  ax.set_xticks(knode)\n",
        "  ax.set_title(\"μ=\"+str(M[i]),fontsize=10)\n",
        "  ax.grid(True)\n",
        "  ax.set_xticklabels([\"-π\",0,\"π\"])"
      ]
    },
    {
      "cell_type": "code",
      "execution_count": null,
      "id": "ca4af7c5",
      "metadata": {},
      "outputs": [],
      "source": [
        "def Zak_Ph(model):\n",
        "  Nk=500\n",
        "  ptsK=[[0.],[1.]] # Debe ser la 1ZB\n",
        "  kpts, kdist, knode = model.k_path(ptsK,Nk,report=False)\n",
        "  ϵk,evec=model.solve_all(kpts,eig_vectors=True)\n",
        "  Zak=[]\n",
        "  for band in range(len(evec)):\n",
        "    eveb=evec[band]\n",
        "    Prod=prod([ np.vdot(eveb[i-1],eveb[i]) for i in range(1,Nk)])\n",
        "    Zak.append(-imag( np.log(Prod) ))\n",
        "  return Zak"
      ]
    },
    {
      "cell_type": "code",
      "execution_count": null,
      "id": "3fd0c6c6",
      "metadata": {},
      "outputs": [],
      "source": [
        "PhZak=list(map(Zak_Ph,KitaevChain))\n",
        "PhZak=np.array(PhZak)"
      ]
    },
    {
      "cell_type": "code",
      "execution_count": null,
      "id": "8d43ef00",
      "metadata": {},
      "outputs": [],
      "source": [
        "fig, (ax1,ax2) = plt.subplots(2,figsize=(8, 8))\n",
        "\n",
        "ax1.plot(M,PhZak.T[0])\n",
        "ax1.set_xlabel('$\\mu/t$')\n",
        "ax1.set_ylabel('Fase de Zak \\n (banda valencia)')\n",
        "ax1.grid(True)\n",
        "\n",
        "ax2.plot(M,PhZak.T[1])\n",
        "ax2.set_xlabel('$\\mu/t$')\n",
        "ax2.set_ylabel('Fase de Zak \\n (banda conducción)')\n",
        "ax2.grid(True)\n",
        "ax2.grid(True)"
      ]
    }
  ],
  "metadata": {
    "kernelspec": {
      "display_name": "Python 3",
      "language": "python",
      "name": "python3"
    },
    "language_info": {
      "name": "python",
      "version": "3.9.13"
    }
  },
  "nbformat": 4,
  "nbformat_minor": 5
}
